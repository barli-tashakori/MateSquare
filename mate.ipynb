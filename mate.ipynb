{
 "cells": [
  {
   "cell_type": "code",
   "execution_count": 3,
   "metadata": {},
   "outputs": [],
   "source": [
    "import cv2\n",
    "import numpy as np "
   ]
  },
  {
   "cell_type": "code",
   "execution_count": 4,
   "metadata": {},
   "outputs": [],
   "source": [
    "img=cv2.imread(\"pardazeshtasvir\\messi and ronaldo.jpg\")\n",
    "color_fading=cv2.cvtColor(img,cv2.COLOR_BGR2GRAY)\n",
    "width,hight=color_fading.shape\n",
    "aim=color_fading[(width//8)*3:(width//8)*5,(hight//8)*3:(hight//8)*5]\n",
    "camera_filter=np.ones((45,45),np.float32/2025)\n",
    "color_fading=cv2.filter2D(color_fading,-1,camera_filter)\n",
    "al=3\n",
    "be=0\n",
    "enhanced_aim=cv2.convertScaleAbs(aim,alpha=al,beta=be)\n",
    "color_fading[(width//8)*3:(width//8)*5,(hight//8)*3:(hight//8)*5]=enhanced_aim\n",
    "cv2.rectangle(color_fading,(hight//8*3,width//8*3),((hight//8*5),(width//8*5)),(0,0,0),4)\n",
    "target_color=np.average(enhanced_aim)\n",
    "if target_color < 85 :\n",
    "    cv2.putText(color_fading,\"black\",(10,30),cv2.FONT_HERSHEY_COMPLEX,1,(0,0,0))\n",
    "elif target_color < 170 :\n",
    "    cv2.putText(color_fading ,\"gray\",(10,30),cv2.FONT_HERSHEY_COMPLEX,1,(0,0,0))\n",
    "else:\n",
    "   cv2.putText(color_fading,\"white\",(10,30),cv2.FONT_HERSHEY_COMPLEX,1,(0,0,0))\n",
    "\n",
    "re=cv2.VideoWriter()\n",
    "re.write(color_fading)\n",
    "cv2.imshow(\"faded square\",color_fading)\n",
    "re.release()\n",
    "cv2.waitKey()\n",
    "\n"
   ]
  }
 ],
 "metadata": {
  "kernelspec": {
   "display_name": "Python 3",
   "language": "python",
   "name": "python3"
  },
  "language_info": {
   "codemirror_mode": {
    "name": "ipython",
    "version": 3
   },
   "file_extension": ".py",
   "mimetype": "text/x-python",
   "name": "python",
   "nbconvert_exporter": "python",
   "pygments_lexer": "ipython3",
   "version": "3.11.4"
  }
 },
 "nbformat": 4,
 "nbformat_minor": 2
}
